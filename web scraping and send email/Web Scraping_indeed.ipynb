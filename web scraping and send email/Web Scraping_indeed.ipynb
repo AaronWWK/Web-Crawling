{
 "cells": [
  {
   "cell_type": "markdown",
   "metadata": {},
   "source": [
    "## Demo: Web scraping with BeautifulSoup"
   ]
  },
  {
   "cell_type": "markdown",
   "metadata": {},
   "source": [
    "this demo shows how to use BeautifulSoup to crawl job listing in indeed."
   ]
  },
  {
   "cell_type": "code",
   "execution_count": 3,
   "metadata": {},
   "outputs": [],
   "source": [
    "## Import the necessary packages\n",
    "from bs4 import BeautifulSoup\n",
    "import urllib\n",
    "import re\n",
    "import pandas as pd"
   ]
  },
  {
   "cell_type": "markdown",
   "metadata": {},
   "source": [
    "## 1. Retrive job listing urls on one page"
   ]
  },
  {
   "cell_type": "markdown",
   "metadata": {},
   "source": [
    "use indeed mobile web version since its html is simplier"
   ]
  },
  {
   "cell_type": "code",
   "execution_count": 5,
   "metadata": {},
   "outputs": [
    {
     "name": "stdout",
     "output_type": "stream",
     "text": [
      "viewjob?jk=44b28b02acd2b73e\n",
      "https://www.indeed.com/m/viewjob?jk=44b28b02acd2b73e\n",
      "viewjob?jk=07b8b4564a3a16e5\n",
      "https://www.indeed.com/m/viewjob?jk=07b8b4564a3a16e5\n",
      "viewjob?jk=4d6bbce94353ef87\n",
      "https://www.indeed.com/m/viewjob?jk=4d6bbce94353ef87\n",
      "viewjob?jk=eb4cf8cb4ce7d255\n",
      "https://www.indeed.com/m/viewjob?jk=eb4cf8cb4ce7d255\n",
      "viewjob?jk=7df01a501894fa5b\n",
      "https://www.indeed.com/m/viewjob?jk=7df01a501894fa5b\n",
      "viewjob?jk=6fe04e20fc6b224b\n",
      "https://www.indeed.com/m/viewjob?jk=6fe04e20fc6b224b\n",
      "viewjob?jk=78b9e460c7b32aee\n",
      "https://www.indeed.com/m/viewjob?jk=78b9e460c7b32aee\n",
      "viewjob?jk=4895acf6c7f11e31\n",
      "https://www.indeed.com/m/viewjob?jk=4895acf6c7f11e31\n",
      "viewjob?jk=148461916cd9132d\n",
      "https://www.indeed.com/m/viewjob?jk=148461916cd9132d\n",
      "viewjob?jk=d8982f145f0914f3\n",
      "https://www.indeed.com/m/viewjob?jk=d8982f145f0914f3\n"
     ]
    }
   ],
   "source": [
    "from urllib.request import urlopen\n",
    "url = \"https://www.indeed.com/m/jobs?q=data+scientist&l=Los+Angeles%2C+CA\"\n",
    "page = urlopen(url)\n",
    "soup = BeautifulSoup(page, 'lxml')\n",
    "\n",
    "all_matches = soup.find_all('a', attrs={'rel':['nofollow']})\n",
    "for i in all_matches:\n",
    "    print (i['href'])\n",
    "    print (\"https://www.indeed.com/m/\"+i['href'])"
   ]
  },
  {
   "cell_type": "markdown",
   "metadata": {},
   "source": [
    "## 2. Visit each url to fetch the title, company, location and job description for each job listing"
   ]
  },
  {
   "cell_type": "code",
   "execution_count": null,
   "metadata": {},
   "outputs": [],
   "source": [
    "title = []\n",
    "company = []\n",
    "location = []\n",
    "jd = []\n",
    "for each in all_matches:\n",
    "    jd_url= 'http://www.indeed.com/m/'+each['href']\n",
    "    jd_page = urlopen(jd_url)\n",
    "    jd_soup = BeautifulSoup(jd_page, 'lxml')\n",
    "    jd_desc = jd_soup.findAll('div',attrs={'id':['desc']}) ## find the structure like: <div id=\"desc\"></>\n",
    "    title.append(jd_soup.body.p.b.font.text)\n",
    "    company.append(jd_desc[0].span.text)\n",
    "    location.append(jd_soup.body.p.span.text)\n",
    "    jd.append(jd_desc[0].text)\n",
    "    # break # Test on one position"
   ]
  },
  {
   "cell_type": "code",
   "execution_count": 7,
   "metadata": {},
   "outputs": [
    {
     "data": {
      "text/plain": [
       "['Los Angeles, CA 90032']"
      ]
     },
     "execution_count": 7,
     "metadata": {},
     "output_type": "execute_result"
    }
   ],
   "source": [
    "location"
   ]
  },
  {
   "cell_type": "code",
   "execution_count": null,
   "metadata": {
    "scrolled": true
   },
   "outputs": [],
   "source": [
    "## Job Description\n",
    "print(jd_desc[0].text)"
   ]
  },
  {
   "cell_type": "code",
   "execution_count": 8,
   "metadata": {},
   "outputs": [
    {
     "name": "stdout",
     "output_type": "stream",
     "text": [
      "DATA SCIENTIST\n",
      "['DATA SCIENTIST']\n"
     ]
    }
   ],
   "source": [
    "## Job Title \n",
    "print(jd_soup.body.p.b.font.text)\n",
    "print(title)"
   ]
  },
  {
   "cell_type": "code",
   "execution_count": 9,
   "metadata": {},
   "outputs": [
    {
     "name": "stdout",
     "output_type": "stream",
     "text": [
      "California State University\n",
      "California State University \n"
     ]
    }
   ],
   "source": [
    "## Company Name\n",
    "print(jd_desc[0].span.text)\n",
    "print(jd_soup.body.p.span.previous_sibling.split('-')[0][1:])"
   ]
  },
  {
   "cell_type": "code",
   "execution_count": 10,
   "metadata": {},
   "outputs": [
    {
     "data": {
      "text/plain": [
       "['DATA SCIENTIST']"
      ]
     },
     "execution_count": 10,
     "metadata": {},
     "output_type": "execute_result"
    }
   ],
   "source": [
    "title"
   ]
  },
  {
   "cell_type": "markdown",
   "metadata": {},
   "source": [
    "#### Save the data into Data Frame"
   ]
  },
  {
   "cell_type": "code",
   "execution_count": 13,
   "metadata": {},
   "outputs": [],
   "source": [
    "job = {'title': title,\n",
    "         'company': company,\n",
    "         'location': location,\n",
    "         'Job Description': jd}\n",
    "df = pd.DataFrame.from_dict(job)"
   ]
  },
  {
   "cell_type": "code",
   "execution_count": 14,
   "metadata": {},
   "outputs": [
    {
     "data": {
      "text/html": [
       "<div>\n",
       "<style scoped>\n",
       "    .dataframe tbody tr th:only-of-type {\n",
       "        vertical-align: middle;\n",
       "    }\n",
       "\n",
       "    .dataframe tbody tr th {\n",
       "        vertical-align: top;\n",
       "    }\n",
       "\n",
       "    .dataframe thead th {\n",
       "        text-align: right;\n",
       "    }\n",
       "</style>\n",
       "<table border=\"1\" class=\"dataframe\">\n",
       "  <thead>\n",
       "    <tr style=\"text-align: right;\">\n",
       "      <th></th>\n",
       "      <th>title</th>\n",
       "      <th>company</th>\n",
       "      <th>location</th>\n",
       "      <th>Job Description</th>\n",
       "    </tr>\n",
       "  </thead>\n",
       "  <tbody>\n",
       "    <tr>\n",
       "      <th>0</th>\n",
       "      <td>DATA SCIENTIST</td>\n",
       "      <td>California State University</td>\n",
       "      <td>Los Angeles, CA 90032</td>\n",
       "      <td>Campus:\\nLos Angeles\\n\\nJob ID: 180220\\n\\nJob ...</td>\n",
       "    </tr>\n",
       "    <tr>\n",
       "      <th>1</th>\n",
       "      <td>Data Scientist Consultant</td>\n",
       "      <td>12 days ago</td>\n",
       "      <td>Los Angeles, CA</td>\n",
       "      <td>Consultant - Data Scientist ArchitectWe seek d...</td>\n",
       "    </tr>\n",
       "    <tr>\n",
       "      <th>2</th>\n",
       "      <td>Data Scientist intern.</td>\n",
       "      <td>1 day ago</td>\n",
       "      <td>Beverly Hills, CA</td>\n",
       "      <td>findSisterhood is looking for new full stack d...</td>\n",
       "    </tr>\n",
       "    <tr>\n",
       "      <th>3</th>\n",
       "      <td>Cannabis Tissue Culture Technician</td>\n",
       "      <td>9 days ago</td>\n",
       "      <td>Los Angeles, CA 90021</td>\n",
       "      <td>Cannabis Tissue Culture TechnicianJob Summary:...</td>\n",
       "    </tr>\n",
       "    <tr>\n",
       "      <th>4</th>\n",
       "      <td>Molecular Genetics Tech</td>\n",
       "      <td>Kaiser Permanente</td>\n",
       "      <td>Los Angeles, CA 90039</td>\n",
       "      <td>Under immediate supervision work rotations are...</td>\n",
       "    </tr>\n",
       "    <tr>\n",
       "      <th>5</th>\n",
       "      <td>Data Scientist/Visualization Master</td>\n",
       "      <td>InterMedia Advertising</td>\n",
       "      <td>Los Angeles, CA 90067</td>\n",
       "      <td>We are seeking a Manager of Business Intellige...</td>\n",
       "    </tr>\n",
       "    <tr>\n",
       "      <th>6</th>\n",
       "      <td>Data Scientist</td>\n",
       "      <td>Meredith Corporation</td>\n",
       "      <td>Los Angeles, CA</td>\n",
       "      <td>Job Title\\nData Scientist\\nJob Description\\nBi...</td>\n",
       "    </tr>\n",
       "    <tr>\n",
       "      <th>7</th>\n",
       "      <td>Junior Data Scientist</td>\n",
       "      <td>Ranker</td>\n",
       "      <td>Los Angeles, CA 90048</td>\n",
       "      <td>We're looking for a Junior Data Scientist to h...</td>\n",
       "    </tr>\n",
       "    <tr>\n",
       "      <th>8</th>\n",
       "      <td>Data Scientist</td>\n",
       "      <td>Amazon.com</td>\n",
       "      <td>Santa Monica, CA</td>\n",
       "      <td>A Bachelor or Masters Degree in a highly quant...</td>\n",
       "    </tr>\n",
       "    <tr>\n",
       "      <th>9</th>\n",
       "      <td>Data Scientist</td>\n",
       "      <td>Sony Pictures Entertainment Inc.</td>\n",
       "      <td>Culver City, CA 90232</td>\n",
       "      <td>Data Scientist\\nWhat will be your mission?\\nAt...</td>\n",
       "    </tr>\n",
       "  </tbody>\n",
       "</table>\n",
       "</div>"
      ],
      "text/plain": [
       "                                 title                           company  \\\n",
       "0                       DATA SCIENTIST       California State University   \n",
       "1            Data Scientist Consultant                       12 days ago   \n",
       "2               Data Scientist intern.                         1 day ago   \n",
       "3   Cannabis Tissue Culture Technician                        9 days ago   \n",
       "4              Molecular Genetics Tech                 Kaiser Permanente   \n",
       "5  Data Scientist/Visualization Master            InterMedia Advertising   \n",
       "6                       Data Scientist              Meredith Corporation   \n",
       "7                Junior Data Scientist                            Ranker   \n",
       "8                       Data Scientist                        Amazon.com   \n",
       "9                       Data Scientist  Sony Pictures Entertainment Inc.   \n",
       "\n",
       "                location                                    Job Description  \n",
       "0  Los Angeles, CA 90032  Campus:\\nLos Angeles\\n\\nJob ID: 180220\\n\\nJob ...  \n",
       "1        Los Angeles, CA  Consultant - Data Scientist ArchitectWe seek d...  \n",
       "2      Beverly Hills, CA  findSisterhood is looking for new full stack d...  \n",
       "3  Los Angeles, CA 90021  Cannabis Tissue Culture TechnicianJob Summary:...  \n",
       "4  Los Angeles, CA 90039  Under immediate supervision work rotations are...  \n",
       "5  Los Angeles, CA 90067  We are seeking a Manager of Business Intellige...  \n",
       "6        Los Angeles, CA  Job Title\\nData Scientist\\nJob Description\\nBi...  \n",
       "7  Los Angeles, CA 90048  We're looking for a Junior Data Scientist to h...  \n",
       "8       Santa Monica, CA  A Bachelor or Masters Degree in a highly quant...  \n",
       "9  Culver City, CA 90232  Data Scientist\\nWhat will be your mission?\\nAt...  "
      ]
     },
     "execution_count": 14,
     "metadata": {},
     "output_type": "execute_result"
    }
   ],
   "source": [
    "df"
   ]
  },
  {
   "cell_type": "markdown",
   "metadata": {},
   "source": [
    "If we don't break the loop above, we can crawl all the job information from one page."
   ]
  },
  {
   "cell_type": "markdown",
   "metadata": {},
   "source": [
    "## 3. Go to next pages"
   ]
  },
  {
   "cell_type": "code",
   "execution_count": 15,
   "metadata": {},
   "outputs": [],
   "source": [
    "title = []\n",
    "company = []\n",
    "location = []\n",
    "jd = []\n",
    "url = \"https://www.indeed.com/m/jobs?q=data+scientist&l=Los+Angeles%2C+CA\"\n",
    "for i in range(2):\n",
    "    \n",
    "    page = urlopen(url)\n",
    "    soup = BeautifulSoup(page, 'lxml')\n",
    "    all_matches = soup.findAll(attrs={'rel':['nofollow']})\n",
    "    for each in all_matches:\n",
    "        jd_url= 'http://www.indeed.com/m/'+each['href']\n",
    "        jd_page =urlopen(jd_url)\n",
    "        jd_soup = BeautifulSoup(jd_page, 'lxml')\n",
    "        jd_desc = jd_soup.findAll(attrs={'id':['desc']})\n",
    "        title.append(jd_soup.body.p.b.font.text)\n",
    "        company.append(jd_desc[0].span.text)\n",
    "        location.append(jd_soup.body.p.span.text)\n",
    "        jd.append(jd_desc[0].text)\n",
    "        \n",
    "    ## Change the pages to Next Page\n",
    "    url_all = soup.findAll(attrs={'rel':['next']})\n",
    "    url = 'http://www.indeed.com/m/'+ str(url_all[0]['href'])\n"
   ]
  },
  {
   "cell_type": "code",
   "execution_count": 16,
   "metadata": {},
   "outputs": [],
   "source": [
    "job = {'title': title,\n",
    "         'company': company,\n",
    "         'location': location,\n",
    "         'Job Description': jd}\n",
    "df = pd.DataFrame.from_dict(job)"
   ]
  },
  {
   "cell_type": "code",
   "execution_count": 17,
   "metadata": {
    "scrolled": true
   },
   "outputs": [
    {
     "data": {
      "text/html": [
       "<div>\n",
       "<style scoped>\n",
       "    .dataframe tbody tr th:only-of-type {\n",
       "        vertical-align: middle;\n",
       "    }\n",
       "\n",
       "    .dataframe tbody tr th {\n",
       "        vertical-align: top;\n",
       "    }\n",
       "\n",
       "    .dataframe thead th {\n",
       "        text-align: right;\n",
       "    }\n",
       "</style>\n",
       "<table border=\"1\" class=\"dataframe\">\n",
       "  <thead>\n",
       "    <tr style=\"text-align: right;\">\n",
       "      <th></th>\n",
       "      <th>title</th>\n",
       "      <th>company</th>\n",
       "      <th>location</th>\n",
       "      <th>Job Description</th>\n",
       "    </tr>\n",
       "  </thead>\n",
       "  <tbody>\n",
       "    <tr>\n",
       "      <th>0</th>\n",
       "      <td>Data Scientist</td>\n",
       "      <td>Amazon.com</td>\n",
       "      <td>Santa Monica, CA</td>\n",
       "      <td>A Bachelor or Masters Degree in a highly quant...</td>\n",
       "    </tr>\n",
       "    <tr>\n",
       "      <th>1</th>\n",
       "      <td>Data Scientist Consultant</td>\n",
       "      <td>12 days ago</td>\n",
       "      <td>Los Angeles, CA</td>\n",
       "      <td>Consultant - Data Scientist ArchitectWe seek d...</td>\n",
       "    </tr>\n",
       "    <tr>\n",
       "      <th>2</th>\n",
       "      <td>Summer 2019 Internship-Machine Learning</td>\n",
       "      <td>Automatic Data Processing</td>\n",
       "      <td>Pasadena, CA 91101</td>\n",
       "      <td>ADP is hiring an intern. In this position you ...</td>\n",
       "    </tr>\n",
       "    <tr>\n",
       "      <th>3</th>\n",
       "      <td>DATA SCIENTIST</td>\n",
       "      <td>California State University</td>\n",
       "      <td>Los Angeles, CA 90032</td>\n",
       "      <td>Campus:\\nLos Angeles\\n\\nJob ID: 180220\\n\\nJob ...</td>\n",
       "    </tr>\n",
       "    <tr>\n",
       "      <th>4</th>\n",
       "      <td>Entry Level Big Data Engineer</td>\n",
       "      <td>AT&amp;T</td>\n",
       "      <td>El Segundo, CA 90245</td>\n",
       "      <td>This role will focus on Big Data while providi...</td>\n",
       "    </tr>\n",
       "    <tr>\n",
       "      <th>5</th>\n",
       "      <td>Full Stack Developer, Data Science &amp; Insights</td>\n",
       "      <td>Netflix</td>\n",
       "      <td>Los Angeles, CA</td>\n",
       "      <td>Los Angeles, California\\nData Science and Engi...</td>\n",
       "    </tr>\n",
       "    <tr>\n",
       "      <th>6</th>\n",
       "      <td>Analyst, U.S. TV Research</td>\n",
       "      <td>Sony Pictures Entertainment Inc.</td>\n",
       "      <td>Culver City, CA 90232</td>\n",
       "      <td>Analyst, U.S. TV Research\\nThe Analyst, US Res...</td>\n",
       "    </tr>\n",
       "    <tr>\n",
       "      <th>7</th>\n",
       "      <td>Data Scientist/Visualization Master</td>\n",
       "      <td>InterMedia Advertising</td>\n",
       "      <td>Los Angeles, CA 90067</td>\n",
       "      <td>We are seeking a Manager of Business Intellige...</td>\n",
       "    </tr>\n",
       "    <tr>\n",
       "      <th>8</th>\n",
       "      <td>Data Scientist intern.</td>\n",
       "      <td>1 day ago</td>\n",
       "      <td>Beverly Hills, CA</td>\n",
       "      <td>findSisterhood is looking for new full stack d...</td>\n",
       "    </tr>\n",
       "    <tr>\n",
       "      <th>9</th>\n",
       "      <td>Data Insight Analyst</td>\n",
       "      <td>Northrop Grumman</td>\n",
       "      <td>Redondo Beach, CA 90278</td>\n",
       "      <td>At Northrop Grumman, our employees have incred...</td>\n",
       "    </tr>\n",
       "    <tr>\n",
       "      <th>10</th>\n",
       "      <td>Data Scientist</td>\n",
       "      <td>Sony Pictures Entertainment Inc.</td>\n",
       "      <td>Culver City, CA 90232</td>\n",
       "      <td>Data Scientist\\nWhat will be your mission?\\nAt...</td>\n",
       "    </tr>\n",
       "    <tr>\n",
       "      <th>11</th>\n",
       "      <td>Data Engineer, Machine Learning</td>\n",
       "      <td>Twentieth Century Fox</td>\n",
       "      <td>Los Angeles, CA</td>\n",
       "      <td>OVERVIEW OF THE COMPANY\\nFox Corporation\\nUnde...</td>\n",
       "    </tr>\n",
       "    <tr>\n",
       "      <th>12</th>\n",
       "      <td>Junior Data Scientist</td>\n",
       "      <td>Ranker</td>\n",
       "      <td>Los Angeles, CA 90048</td>\n",
       "      <td>We're looking for a Junior Data Scientist to h...</td>\n",
       "    </tr>\n",
       "    <tr>\n",
       "      <th>13</th>\n",
       "      <td>Jr. Data Scientist</td>\n",
       "      <td>Mattel</td>\n",
       "      <td>El Segundo, CA 90245</td>\n",
       "      <td>Jr. Data Scientist\\n\\nPosition Summary:\\n\\nWe ...</td>\n",
       "    </tr>\n",
       "    <tr>\n",
       "      <th>14</th>\n",
       "      <td>Enterprise Data Scientist I</td>\n",
       "      <td>Farmers Insurance Group</td>\n",
       "      <td>Woodland Hills, CA</td>\n",
       "      <td>We are Farmers!\\nJoin a team of diverse profes...</td>\n",
       "    </tr>\n",
       "    <tr>\n",
       "      <th>15</th>\n",
       "      <td>Cannabis Tissue Culture Technician</td>\n",
       "      <td>9 days ago</td>\n",
       "      <td>Los Angeles, CA 90021</td>\n",
       "      <td>Cannabis Tissue Culture TechnicianJob Summary:...</td>\n",
       "    </tr>\n",
       "    <tr>\n",
       "      <th>16</th>\n",
       "      <td>Data Scientist (TEMP)</td>\n",
       "      <td>Columbus Technologies and Services, Inc.</td>\n",
       "      <td>Pasadena, CA 91101</td>\n",
       "      <td>Must be a US Citizen or Green Card Holder\\nEst...</td>\n",
       "    </tr>\n",
       "    <tr>\n",
       "      <th>17</th>\n",
       "      <td>Data Scientist</td>\n",
       "      <td>Cigna</td>\n",
       "      <td>Santa Monica, CA</td>\n",
       "      <td>It's fun to work in a company where people tru...</td>\n",
       "    </tr>\n",
       "    <tr>\n",
       "      <th>18</th>\n",
       "      <td>Medical Laboratory Technician</td>\n",
       "      <td>Kaiser Permanente</td>\n",
       "      <td>Los Angeles, CA 90027</td>\n",
       "      <td>Under supervision performs pre-analytical, ana...</td>\n",
       "    </tr>\n",
       "    <tr>\n",
       "      <th>19</th>\n",
       "      <td>Senior Data Scientist</td>\n",
       "      <td>UCLA Health</td>\n",
       "      <td>Los Angeles, CA 90079</td>\n",
       "      <td>Responsibilities\\nThe Senior Data Scientist is...</td>\n",
       "    </tr>\n",
       "  </tbody>\n",
       "</table>\n",
       "</div>"
      ],
      "text/plain": [
       "                                            title  \\\n",
       "0                                  Data Scientist   \n",
       "1                       Data Scientist Consultant   \n",
       "2         Summer 2019 Internship-Machine Learning   \n",
       "3                                  DATA SCIENTIST   \n",
       "4                   Entry Level Big Data Engineer   \n",
       "5   Full Stack Developer, Data Science & Insights   \n",
       "6                       Analyst, U.S. TV Research   \n",
       "7             Data Scientist/Visualization Master   \n",
       "8                          Data Scientist intern.   \n",
       "9                            Data Insight Analyst   \n",
       "10                                 Data Scientist   \n",
       "11                Data Engineer, Machine Learning   \n",
       "12                          Junior Data Scientist   \n",
       "13                             Jr. Data Scientist   \n",
       "14                    Enterprise Data Scientist I   \n",
       "15             Cannabis Tissue Culture Technician   \n",
       "16                          Data Scientist (TEMP)   \n",
       "17                                 Data Scientist   \n",
       "18                  Medical Laboratory Technician   \n",
       "19                          Senior Data Scientist   \n",
       "\n",
       "                                     company                 location  \\\n",
       "0                                 Amazon.com         Santa Monica, CA   \n",
       "1                                12 days ago          Los Angeles, CA   \n",
       "2                  Automatic Data Processing       Pasadena, CA 91101   \n",
       "3                California State University    Los Angeles, CA 90032   \n",
       "4                                       AT&T     El Segundo, CA 90245   \n",
       "5                                    Netflix          Los Angeles, CA   \n",
       "6           Sony Pictures Entertainment Inc.    Culver City, CA 90232   \n",
       "7                     InterMedia Advertising    Los Angeles, CA 90067   \n",
       "8                                  1 day ago        Beverly Hills, CA   \n",
       "9                           Northrop Grumman  Redondo Beach, CA 90278   \n",
       "10          Sony Pictures Entertainment Inc.    Culver City, CA 90232   \n",
       "11                     Twentieth Century Fox          Los Angeles, CA   \n",
       "12                                    Ranker    Los Angeles, CA 90048   \n",
       "13                                    Mattel     El Segundo, CA 90245   \n",
       "14                   Farmers Insurance Group       Woodland Hills, CA   \n",
       "15                                9 days ago    Los Angeles, CA 90021   \n",
       "16  Columbus Technologies and Services, Inc.       Pasadena, CA 91101   \n",
       "17                                     Cigna         Santa Monica, CA   \n",
       "18                         Kaiser Permanente    Los Angeles, CA 90027   \n",
       "19                               UCLA Health    Los Angeles, CA 90079   \n",
       "\n",
       "                                      Job Description  \n",
       "0   A Bachelor or Masters Degree in a highly quant...  \n",
       "1   Consultant - Data Scientist ArchitectWe seek d...  \n",
       "2   ADP is hiring an intern. In this position you ...  \n",
       "3   Campus:\\nLos Angeles\\n\\nJob ID: 180220\\n\\nJob ...  \n",
       "4   This role will focus on Big Data while providi...  \n",
       "5   Los Angeles, California\\nData Science and Engi...  \n",
       "6   Analyst, U.S. TV Research\\nThe Analyst, US Res...  \n",
       "7   We are seeking a Manager of Business Intellige...  \n",
       "8   findSisterhood is looking for new full stack d...  \n",
       "9   At Northrop Grumman, our employees have incred...  \n",
       "10  Data Scientist\\nWhat will be your mission?\\nAt...  \n",
       "11  OVERVIEW OF THE COMPANY\\nFox Corporation\\nUnde...  \n",
       "12  We're looking for a Junior Data Scientist to h...  \n",
       "13  Jr. Data Scientist\\n\\nPosition Summary:\\n\\nWe ...  \n",
       "14  We are Farmers!\\nJoin a team of diverse profes...  \n",
       "15  Cannabis Tissue Culture TechnicianJob Summary:...  \n",
       "16  Must be a US Citizen or Green Card Holder\\nEst...  \n",
       "17  It's fun to work in a company where people tru...  \n",
       "18  Under supervision performs pre-analytical, ana...  \n",
       "19  Responsibilities\\nThe Senior Data Scientist is...  "
      ]
     },
     "execution_count": 17,
     "metadata": {},
     "output_type": "execute_result"
    }
   ],
   "source": [
    "df"
   ]
  }
 ],
 "metadata": {
  "kernelspec": {
   "display_name": "Python 3",
   "language": "python",
   "name": "python3"
  },
  "language_info": {
   "codemirror_mode": {
    "name": "ipython",
    "version": 3
   },
   "file_extension": ".py",
   "mimetype": "text/x-python",
   "name": "python",
   "nbconvert_exporter": "python",
   "pygments_lexer": "ipython3",
   "version": "3.7.0"
  }
 },
 "nbformat": 4,
 "nbformat_minor": 1
}
